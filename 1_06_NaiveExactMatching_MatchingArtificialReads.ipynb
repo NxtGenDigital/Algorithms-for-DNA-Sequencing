{
  "nbformat": 4,
  "nbformat_minor": 0,
  "metadata": {
    "kernelspec": {
      "display_name": "Python 2",
      "language": "python",
      "name": "python2"
    },
    "language_info": {
      "codemirror_mode": {
        "name": "ipython",
        "version": 2
      },
      "file_extension": ".py",
      "mimetype": "text/x-python",
      "name": "python",
      "nbconvert_exporter": "python",
      "pygments_lexer": "ipython2",
      "version": "2.7.11"
    },
    "colab": {
      "name": "1.06_NaiveExactMatching-MatchingArtificialReads.ipynb",
      "provenance": [],
      "collapsed_sections": []
    }
  },
  "cells": [
    {
      "cell_type": "code",
      "metadata": {
        "colab": {
          "base_uri": "https://localhost:8080/"
        },
        "id": "Qwm1c0agTqCe",
        "outputId": "2145d20b-99b3-4486-ace6-ec40adafcbdb"
      },
      "source": [
        "!wget http://d28rh4a8wq0iu5.cloudfront.net/ads1/data/phix.fa"
      ],
      "execution_count": 1,
      "outputs": [
        {
          "output_type": "stream",
          "text": [
            "--2021-05-11 16:42:15--  http://d28rh4a8wq0iu5.cloudfront.net/ads1/data/phix.fa\n",
            "Resolving d28rh4a8wq0iu5.cloudfront.net (d28rh4a8wq0iu5.cloudfront.net)... 13.32.80.89, 13.32.80.37, 13.32.80.44, ...\n",
            "Connecting to d28rh4a8wq0iu5.cloudfront.net (d28rh4a8wq0iu5.cloudfront.net)|13.32.80.89|:80... connected.\n",
            "HTTP request sent, awaiting response... 200 OK\n",
            "Length: 5528 (5.4K) [application/octet-stream]\n",
            "Saving to: ‘phix.fa’\n",
            "\n",
            "phix.fa             100%[===================>]   5.40K  --.-KB/s    in 0s      \n",
            "\n",
            "2021-05-11 16:42:16 (313 MB/s) - ‘phix.fa’ saved [5528/5528]\n",
            "\n"
          ],
          "name": "stdout"
        }
      ]
    },
    {
      "cell_type": "code",
      "metadata": {
        "id": "oArGw8W5TqCg"
      },
      "source": [
        "def readGenome(filename):\n",
        "    genome = ''\n",
        "    with open(filename, 'r') as f:\n",
        "        for line in f:\n",
        "            # ignore header line with genome information\n",
        "            if not line[0] == '>':\n",
        "                genome += line.rstrip()\n",
        "    return genome"
      ],
      "execution_count": 2,
      "outputs": []
    },
    {
      "cell_type": "code",
      "metadata": {
        "id": "oBJ9GBO9TqCh"
      },
      "source": [
        "genome = readGenome('phix.fa')"
      ],
      "execution_count": 3,
      "outputs": []
    },
    {
      "cell_type": "code",
      "metadata": {
        "id": "2vZzqvV5TqCh"
      },
      "source": [
        "def naive(p, t):\n",
        "    occurrences = []\n",
        "    for i in range(len(t) - len(p) + 1):\n",
        "        match = True\n",
        "        for j in range(len(p)):\n",
        "            if t[i+j] != p[j]:\n",
        "                match = False\n",
        "                break\n",
        "        if match:\n",
        "          occurrences.append(i)\n",
        "    return occurrences"
      ],
      "execution_count": 4,
      "outputs": []
    },
    {
      "cell_type": "code",
      "metadata": {
        "colab": {
          "base_uri": "https://localhost:8080/"
        },
        "id": "5-WSI2n5TqCi",
        "outputId": "79924abd-da75-4447-da13-21e730a9b79f"
      },
      "source": [
        "t = 'AGCTTAGATAGC'\n",
        "p = 'AG'\n",
        "naive(p, t)"
      ],
      "execution_count": 5,
      "outputs": [
        {
          "output_type": "execute_result",
          "data": {
            "text/plain": [
              "[0, 5, 9]"
            ]
          },
          "metadata": {
            "tags": []
          },
          "execution_count": 5
        }
      ]
    },
    {
      "cell_type": "code",
      "metadata": {
        "id": "tveeRjCITqCi"
      },
      "source": [
        "import random\n",
        "def generateReads(genome, numReads, readLen):\n",
        "    ''' Generate reads from random positions in the given genome. '''\n",
        "    reads = []\n",
        "    for _ in range(numReads):\n",
        "        start = random.randint(0, len(genome)-readLen) - 1\n",
        "        reads.append(genome[start : start+readLen])\n",
        "    return reads"
      ],
      "execution_count": 6,
      "outputs": []
    },
    {
      "cell_type": "code",
      "metadata": {
        "colab": {
          "base_uri": "https://localhost:8080/"
        },
        "id": "3gZWA90pTqCj",
        "outputId": "80048b80-2a12-418a-b813-02d4dcdf4e49"
      },
      "source": [
        "# Generate 100 reads of length 100\n",
        "reads = generateReads(genome, 100, 100)\n",
        "\n",
        "# Count how many reads match the genome exactly\n",
        "numMatched = 0\n",
        "for r in reads:\n",
        "    matches = naive(r, genome)\n",
        "    if len(matches) > 0:\n",
        "        numMatched += 1\n",
        "print('%d / %d reads matched the genome exactly!' % (numMatched, len(reads)))"
      ],
      "execution_count": 7,
      "outputs": [
        {
          "output_type": "stream",
          "text": [
            "100 / 100 reads matched the genome exactly!\n"
          ],
          "name": "stdout"
        }
      ]
    }
  ]
}