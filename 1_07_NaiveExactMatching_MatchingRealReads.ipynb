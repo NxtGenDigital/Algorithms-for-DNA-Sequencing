{
  "nbformat": 4,
  "nbformat_minor": 0,
  "metadata": {
    "kernelspec": {
      "display_name": "Python 2",
      "language": "python",
      "name": "python2"
    },
    "language_info": {
      "codemirror_mode": {
        "name": "ipython",
        "version": 2
      },
      "file_extension": ".py",
      "mimetype": "text/x-python",
      "name": "python",
      "nbconvert_exporter": "python",
      "pygments_lexer": "ipython2",
      "version": "2.7.11"
    },
    "colab": {
      "name": "1.07_NaiveExactMatching-MatchingRealReads.ipynb",
      "provenance": [],
      "collapsed_sections": []
    }
  },
  "cells": [
    {
      "cell_type": "code",
      "metadata": {
        "colab": {
          "base_uri": "https://localhost:8080/"
        },
        "id": "u3pqXUxVbops",
        "outputId": "2119393d-1e0a-40bb-b632-68e11c7c507f"
      },
      "source": [
        "!wget http://d28rh4a8wq0iu5.cloudfront.net/ads1/data/phix.fa"
      ],
      "execution_count": 1,
      "outputs": [
        {
          "output_type": "stream",
          "text": [
            "--2021-05-12 16:40:23--  http://d28rh4a8wq0iu5.cloudfront.net/ads1/data/phix.fa\n",
            "Resolving d28rh4a8wq0iu5.cloudfront.net (d28rh4a8wq0iu5.cloudfront.net)... 13.249.130.50, 13.249.130.102, 13.249.130.127, ...\n",
            "Connecting to d28rh4a8wq0iu5.cloudfront.net (d28rh4a8wq0iu5.cloudfront.net)|13.249.130.50|:80... connected.\n",
            "HTTP request sent, awaiting response... 200 OK\n",
            "Length: 5528 (5.4K) [application/octet-stream]\n",
            "Saving to: ‘phix.fa’\n",
            "\n",
            "phix.fa             100%[===================>]   5.40K  --.-KB/s    in 0s      \n",
            "\n",
            "2021-05-12 16:40:23 (395 MB/s) - ‘phix.fa’ saved [5528/5528]\n",
            "\n"
          ],
          "name": "stdout"
        }
      ]
    },
    {
      "cell_type": "code",
      "metadata": {
        "id": "_IdiU85Pbop3"
      },
      "source": [
        "def readGenome(filename):\n",
        "    genome = ''\n",
        "    with open(filename, 'r') as f:\n",
        "        for line in f:\n",
        "            # ignore header line with genome information\n",
        "            if not line[0] == '>':\n",
        "                genome += line.rstrip()\n",
        "    return genome"
      ],
      "execution_count": 2,
      "outputs": []
    },
    {
      "cell_type": "code",
      "metadata": {
        "id": "2LiCTs8Wbop5"
      },
      "source": [
        "genome = readGenome('phix.fa')"
      ],
      "execution_count": 3,
      "outputs": []
    },
    {
      "cell_type": "code",
      "metadata": {
        "id": "IACekjZibop6"
      },
      "source": [
        "def naive(p, t):\n",
        "    occurrences = []\n",
        "    for i in range(len(t) - len(p) + 1):\n",
        "        match = True\n",
        "        for j in range(len(p)):\n",
        "            if t[i+j] != p[j]:\n",
        "                match = False\n",
        "                break\n",
        "        if match:\n",
        "            occurrences.append(i)\n",
        "    return occurrences"
      ],
      "execution_count": 4,
      "outputs": []
    },
    {
      "cell_type": "code",
      "metadata": {
        "colab": {
          "base_uri": "https://localhost:8080/"
        },
        "id": "n-y7Fofwbop6",
        "outputId": "ef226b2d-3a0c-4a9e-f333-64f3dcd54dd7"
      },
      "source": [
        "t = 'AGCTTAGATAGC'\n",
        "p = 'AG'\n",
        "naive(p, t)"
      ],
      "execution_count": 5,
      "outputs": [
        {
          "output_type": "execute_result",
          "data": {
            "text/plain": [
              "[0, 5, 9]"
            ]
          },
          "metadata": {
            "tags": []
          },
          "execution_count": 5
        }
      ]
    },
    {
      "cell_type": "code",
      "metadata": {
        "id": "9oHQsI0-bop7"
      },
      "source": [
        "import random\n",
        "def generateReads(genome, numReads, readLen):\n",
        "    ''' Generate reads from random positions in the given genome. '''\n",
        "    reads = []\n",
        "    for _ in range(numReads):\n",
        "        start = random.randint(0, len(genome)-readLen) - 1\n",
        "        reads.append(genome[start : start+readLen])\n",
        "    return reads"
      ],
      "execution_count": 6,
      "outputs": []
    },
    {
      "cell_type": "code",
      "metadata": {
        "colab": {
          "base_uri": "https://localhost:8080/"
        },
        "id": "ccBktsw0bop8",
        "outputId": "6a4e044f-8f4b-4e9e-9dde-c85fba882842"
      },
      "source": [
        "# Generate 100 reads of length 100\n",
        "reads = generateReads(genome, 100, 100)\n",
        "\n",
        "# Count how many reads match the genome exactly\n",
        "numMatched = 0\n",
        "for r in reads:\n",
        "    matches = naive(r, genome)\n",
        "    if len(matches) > 0:\n",
        "        numMatched += 1\n",
        "print('%d / %d reads matched the genome exactly!' % (numMatched, len(reads)))"
      ],
      "execution_count": 7,
      "outputs": [
        {
          "output_type": "stream",
          "text": [
            "100 / 100 reads matched the genome exactly!\n"
          ],
          "name": "stdout"
        }
      ]
    },
    {
      "cell_type": "code",
      "metadata": {
        "colab": {
          "base_uri": "https://localhost:8080/"
        },
        "id": "807EmuEYbop9",
        "outputId": "bbcf6684-572a-4c84-db37-cfb8e0251869"
      },
      "source": [
        "!wget http://d28rh4a8wq0iu5.cloudfront.net/ads1/data/ERR266411_1.first1000.fastq"
      ],
      "execution_count": 8,
      "outputs": [
        {
          "output_type": "stream",
          "text": [
            "--2021-05-12 16:40:46--  http://d28rh4a8wq0iu5.cloudfront.net/ads1/data/ERR266411_1.first1000.fastq\n",
            "Resolving d28rh4a8wq0iu5.cloudfront.net (d28rh4a8wq0iu5.cloudfront.net)... 13.249.130.50, 13.249.130.131, 13.249.130.127, ...\n",
            "Connecting to d28rh4a8wq0iu5.cloudfront.net (d28rh4a8wq0iu5.cloudfront.net)|13.249.130.50|:80... connected.\n",
            "HTTP request sent, awaiting response... 200 OK\n",
            "Length: 254384 (248K) [audio/mpeg]\n",
            "Saving to: ‘ERR266411_1.first1000.fastq’\n",
            "\n",
            "ERR266411_1.first10 100%[===================>] 248.42K  --.-KB/s    in 0.05s   \n",
            "\n",
            "2021-05-12 16:40:46 (5.36 MB/s) - ‘ERR266411_1.first1000.fastq’ saved [254384/254384]\n",
            "\n"
          ],
          "name": "stdout"
        }
      ]
    },
    {
      "cell_type": "code",
      "metadata": {
        "collapsed": true,
        "id": "tiR6_NpZbop9"
      },
      "source": [
        "def readFastq(filename):\n",
        "    sequences = []\n",
        "    with open(filename) as fh:\n",
        "        while True:\n",
        "            fh.readline() # skip name line\n",
        "            seq = fh.readline().rstrip() # read base sequence\n",
        "            fh.readline() # skip placeholder line\n",
        "            fh.readline() # skip base quality line\n",
        "            if len(seq) == 0:\n",
        "                break\n",
        "            sequences.append(seq)\n",
        "    return sequences"
      ],
      "execution_count": 9,
      "outputs": []
    },
    {
      "cell_type": "code",
      "metadata": {
        "colab": {
          "base_uri": "https://localhost:8080/"
        },
        "id": "pP-kCpV7bop-",
        "outputId": "b227e476-2cf8-4953-eeee-91e421cf88fe"
      },
      "source": [
        "import collections\n",
        "phix_reads = readFastq('ERR266411_1.first1000.fastq')\n",
        "count = collections.Counter()\n",
        "for read in phix_reads:\n",
        "    count.update(read)\n",
        "count"
      ],
      "execution_count": 10,
      "outputs": [
        {
          "output_type": "execute_result",
          "data": {
            "text/plain": [
              "Counter({'A': 28426, 'C': 21890, 'G': 19147, 'N': 6, 'T': 30531})"
            ]
          },
          "metadata": {
            "tags": []
          },
          "execution_count": 10
        }
      ]
    },
    {
      "cell_type": "code",
      "metadata": {
        "colab": {
          "base_uri": "https://localhost:8080/"
        },
        "id": "8Qy3dCvIboqA",
        "outputId": "6b6f9e5b-116e-4e32-9e62-437563e05266"
      },
      "source": [
        "numMatched = 0\n",
        "n = 0\n",
        "for r in phix_reads:\n",
        "    matches = naive(r, genome)\n",
        "    n += 1\n",
        "    if len(matches) > 0:\n",
        "        numMatched += 1\n",
        "print('%d / %d reads matched the genome exactly!' % (numMatched, n))"
      ],
      "execution_count": 11,
      "outputs": [
        {
          "output_type": "stream",
          "text": [
            "7 / 1000 reads matched the genome exactly!\n"
          ],
          "name": "stdout"
        }
      ]
    },
    {
      "cell_type": "code",
      "metadata": {
        "colab": {
          "base_uri": "https://localhost:8080/"
        },
        "id": "PAWASDHjboqB",
        "outputId": "4da8c52f-69cc-4a4e-bf25-4f38b07c9737"
      },
      "source": [
        "# Now let's try matching just the first 30 bases of each read\n",
        "numMatched = 0\n",
        "n = 0\n",
        "for r in phix_reads:\n",
        "    r = r[:30]  # just taking the first 30 bases\n",
        "    matches = naive(r, genome)\n",
        "    n += 1\n",
        "    if len(matches) > 0:\n",
        "        numMatched += 1\n",
        "print('%d / %d reads matched the genome exactly!' % (numMatched, n))"
      ],
      "execution_count": 12,
      "outputs": [
        {
          "output_type": "stream",
          "text": [
            "459 / 1000 reads matched the genome exactly!\n"
          ],
          "name": "stdout"
        }
      ]
    },
    {
      "cell_type": "code",
      "metadata": {
        "id": "mh59sFB8boqB"
      },
      "source": [
        "def reverseComplement(s):\n",
        "    complement = {'A': 'T', 'C': 'G', 'G': 'C', 'T': 'A', 'N': 'N'}\n",
        "    t = ''\n",
        "    for base in s:\n",
        "        t = complement[base] + t\n",
        "    return t"
      ],
      "execution_count": 13,
      "outputs": []
    },
    {
      "cell_type": "code",
      "metadata": {
        "colab": {
          "base_uri": "https://localhost:8080/"
        },
        "id": "99sNKNTeboqC",
        "outputId": "2fbe4bb5-48f6-421f-8ef8-f0f91106c7d5"
      },
      "source": [
        "numMatched = 0\n",
        "n = 0\n",
        "for r in phix_reads:\n",
        "    r = r[:30]  # just taking the first 30 bases\n",
        "    matches = naive(r, genome)\n",
        "    matches.extend(naive(reverseComplement(r), genome))\n",
        "    n += 1\n",
        "    if len(matches) > 0:\n",
        "        numMatched += 1\n",
        "print('%d / %d reads matched the genome exactly!' % (numMatched, n))"
      ],
      "execution_count": 14,
      "outputs": [
        {
          "output_type": "stream",
          "text": [
            "932 / 1000 reads matched the genome exactly!\n"
          ],
          "name": "stdout"
        }
      ]
    }
  ]
}