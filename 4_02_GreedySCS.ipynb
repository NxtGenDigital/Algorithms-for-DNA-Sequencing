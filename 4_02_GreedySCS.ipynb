{
  "nbformat": 4,
  "nbformat_minor": 0,
  "metadata": {
    "kernelspec": {
      "display_name": "Python 2",
      "language": "python",
      "name": "python2"
    },
    "language_info": {
      "codemirror_mode": {
        "name": "ipython",
        "version": 2
      },
      "file_extension": ".py",
      "mimetype": "text/x-python",
      "name": "python",
      "nbconvert_exporter": "python",
      "pygments_lexer": "ipython2",
      "version": "2.7.11"
    },
    "colab": {
      "name": "4.02_GreedySCS.ipynb",
      "provenance": [],
      "collapsed_sections": []
    }
  },
  "cells": [
    {
      "cell_type": "code",
      "metadata": {
        "collapsed": true,
        "id": "xIXQe8g0NeHm"
      },
      "source": [
        "def overlap(a, b, min_length=3):\n",
        "    \"\"\" Return length of longest suffix of 'a' matching\n",
        "        a prefix of 'b' that is at least 'min_length'\n",
        "        characters long.  If no such overlap exists,\n",
        "        return 0. \"\"\"\n",
        "    start = 0  # start all the way at the left\n",
        "    while True:\n",
        "        start = a.find(b[:min_length], start)  # look for b's prefix in a\n",
        "        if start == -1:  # no more occurrences to right\n",
        "            return 0\n",
        "        # found occurrence; check for full suffix/prefix match\n",
        "        if b.startswith(a[start:]):\n",
        "            return len(a)-start\n",
        "        start += 1  # move just past previous match"
      ],
      "execution_count": 1,
      "outputs": []
    },
    {
      "cell_type": "code",
      "metadata": {
        "collapsed": true,
        "id": "RejgJc1aNeHs"
      },
      "source": [
        "import itertools\n",
        "\n",
        "def scs(ss):\n",
        "    \"\"\" Returns shortest common superstring of given strings,\n",
        "        assuming no string is a strict substring of another \"\"\"\n",
        "    shortest_sup = None\n",
        "    for ssperm in itertools.permutations(ss):\n",
        "        sup = ssperm[0]  # superstring starts as first string\n",
        "        for i in range(len(ss)-1):\n",
        "            # overlap adjacent strings A and B in the permutation\n",
        "            olen = overlap(ssperm[i], ssperm[i+1], min_length=1)\n",
        "            # add non-overlapping portion of B to superstring\n",
        "            #sup += ssperm[i+1][-(len(ssperm[i+1])-olen):]\n",
        "            sup += ssperm[i+1][olen:]\n",
        "        if shortest_sup is None or len(sup) < len(shortest_sup):\n",
        "            shortest_sup = sup  # found shorter superstring\n",
        "    return shortest_sup  # return shortest"
      ],
      "execution_count": 2,
      "outputs": []
    },
    {
      "cell_type": "code",
      "metadata": {
        "collapsed": true,
        "id": "VFxCIB5LNeHt"
      },
      "source": [
        "def pick_maximal_overlap(reads, k):\n",
        "    \"\"\" Return a pair of reads from the list with a\n",
        "        maximal suffix/prefix overlap >= k.  Returns\n",
        "        overlap length 0 if there are no such overlaps.\"\"\"\n",
        "    reada, readb = None, None\n",
        "    best_olen = 0\n",
        "    for a, b in itertools.permutations(reads, 2):\n",
        "        olen = overlap(a, b, min_length=k)\n",
        "        if olen > best_olen:\n",
        "            reada, readb = a, b\n",
        "            best_olen = olen\n",
        "    return reada, readb, best_olen"
      ],
      "execution_count": 3,
      "outputs": []
    },
    {
      "cell_type": "code",
      "metadata": {
        "collapsed": true,
        "id": "yGuokoqrNeHu"
      },
      "source": [
        "def greedy_scs(reads, k):\n",
        "    \"\"\" Greedy shortest-common-superstring merge.\n",
        "        Repeat until no edges (overlaps of length >= k)\n",
        "        remain. \"\"\"\n",
        "    read_a, read_b, olen = pick_maximal_overlap(reads, k)\n",
        "    while olen > 0:\n",
        "        reads.remove(read_a)\n",
        "        reads.remove(read_b)\n",
        "        reads.append(read_a + read_b[olen:])\n",
        "        read_a, read_b, olen = pick_maximal_overlap(reads, k)\n",
        "    return ''.join(reads)"
      ],
      "execution_count": 4,
      "outputs": []
    },
    {
      "cell_type": "code",
      "metadata": {
        "colab": {
          "base_uri": "https://localhost:8080/",
          "height": 35
        },
        "id": "x0a8tbU5NeHv",
        "outputId": "6e52d005-6450-48b2-bfed-ad2568a448dd"
      },
      "source": [
        "greedy_scs(['ABC', 'BCA', 'CAB'], 2)"
      ],
      "execution_count": 5,
      "outputs": [
        {
          "output_type": "execute_result",
          "data": {
            "application/vnd.google.colaboratory.intrinsic+json": {
              "type": "string"
            },
            "text/plain": [
              "'CABCA'"
            ]
          },
          "metadata": {
            "tags": []
          },
          "execution_count": 5
        }
      ]
    },
    {
      "cell_type": "code",
      "metadata": {
        "colab": {
          "base_uri": "https://localhost:8080/",
          "height": 35
        },
        "id": "qMDnwrdZNeHx",
        "outputId": "65f3e9cd-8f96-4942-d947-b3af34477b63"
      },
      "source": [
        "greedy_scs(['ABCD', 'CDBC', 'BCDA'], 1)"
      ],
      "execution_count": 6,
      "outputs": [
        {
          "output_type": "execute_result",
          "data": {
            "application/vnd.google.colaboratory.intrinsic+json": {
              "type": "string"
            },
            "text/plain": [
              "'CDBCABCDA'"
            ]
          },
          "metadata": {
            "tags": []
          },
          "execution_count": 6
        }
      ]
    },
    {
      "cell_type": "code",
      "metadata": {
        "colab": {
          "base_uri": "https://localhost:8080/",
          "height": 35
        },
        "id": "_FEaRh_4NeHy",
        "outputId": "a44ce896-63ae-4eb2-8779-5357a2ddd0c3"
      },
      "source": [
        "scs(['ABCD', 'CDBC', 'BCDA'])"
      ],
      "execution_count": 7,
      "outputs": [
        {
          "output_type": "execute_result",
          "data": {
            "application/vnd.google.colaboratory.intrinsic+json": {
              "type": "string"
            },
            "text/plain": [
              "'ABCDBCDA'"
            ]
          },
          "metadata": {
            "tags": []
          },
          "execution_count": 7
        }
      ]
    },
    {
      "cell_type": "code",
      "metadata": {
        "collapsed": true,
        "id": "cjSLzy_uNeHz"
      },
      "source": [
        ""
      ],
      "execution_count": null,
      "outputs": []
    }
  ]
}