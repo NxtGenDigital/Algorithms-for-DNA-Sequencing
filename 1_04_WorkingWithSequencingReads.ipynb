{
  "nbformat": 4,
  "nbformat_minor": 0,
  "metadata": {
    "kernelspec": {
      "display_name": "Python 2",
      "language": "python",
      "name": "python2"
    },
    "language_info": {
      "codemirror_mode": {
        "name": "ipython",
        "version": 2
      },
      "file_extension": ".py",
      "mimetype": "text/x-python",
      "name": "python",
      "nbconvert_exporter": "python",
      "pygments_lexer": "ipython2",
      "version": "2.7.11"
    },
    "colab": {
      "name": "1.04_WorkingWithSequencingReads.ipynb",
      "provenance": [],
      "collapsed_sections": []
    }
  },
  "cells": [
    {
      "cell_type": "code",
      "metadata": {
        "scrolled": false,
        "colab": {
          "base_uri": "https://localhost:8080/"
        },
        "id": "23Mb4VbxkW9B",
        "outputId": "845506d6-9a44-4a09-d248-4ac1b2ab3a2e"
      },
      "source": [
        "!wget http://d28rh4a8wq0iu5.cloudfront.net/ads1/data/SRR835775_1.first1000.fastq"
      ],
      "execution_count": null,
      "outputs": [
        {
          "output_type": "stream",
          "text": [
            "--2021-05-09 14:39:46--  http://d28rh4a8wq0iu5.cloudfront.net/ads1/data/SRR835775_1.first1000.fastq\n",
            "Resolving d28rh4a8wq0iu5.cloudfront.net (d28rh4a8wq0iu5.cloudfront.net)... 99.84.254.10, 99.84.254.71, 99.84.254.43, ...\n",
            "Connecting to d28rh4a8wq0iu5.cloudfront.net (d28rh4a8wq0iu5.cloudfront.net)|99.84.254.10|:80... connected.\n",
            "HTTP request sent, awaiting response... 200 OK\n",
            "Length: 224786 (220K) [application/octet-stream]\n",
            "Saving to: ‘SRR835775_1.first1000.fastq’\n",
            "\n",
            "SRR835775_1.first10 100%[===================>] 219.52K  --.-KB/s    in 0.03s   \n",
            "\n",
            "2021-05-09 14:39:46 (7.46 MB/s) - ‘SRR835775_1.first1000.fastq’ saved [224786/224786]\n",
            "\n"
          ],
          "name": "stdout"
        }
      ]
    },
    {
      "cell_type": "code",
      "metadata": {
        "id": "1qTRRAv5kW9E"
      },
      "source": [
        "def readFastq(filename):\n",
        "    sequences = []\n",
        "    qualities = []\n",
        "    with open(filename) as fh:\n",
        "        while True:\n",
        "            fh.readline() # skip name line\n",
        "            seq = fh.readline().rstrip() # read base sequence\n",
        "            fh.readline() # skip placeholder line\n",
        "            qual = fh.readline().rstrip() #base quality line\n",
        "            if len(seq) == 0:\n",
        "                break\n",
        "            sequences.append(seq)\n",
        "            qualities.append(qual)\n",
        "    return sequences, qualities\n",
        "seqs, quals = readFastq('SRR835775_1.first1000.fastq')"
      ],
      "execution_count": null,
      "outputs": []
    },
    {
      "cell_type": "code",
      "metadata": {
        "collapsed": true,
        "id": "TqBuUMQDkW9E"
      },
      "source": [
        "def phred33ToQ(qual):\n",
        "    return ord(qual) - 33"
      ],
      "execution_count": null,
      "outputs": []
    },
    {
      "cell_type": "code",
      "metadata": {
        "colab": {
          "base_uri": "https://localhost:8080/"
        },
        "id": "ACZ-fEPdkW9F",
        "outputId": "82e281e0-c377-4b7c-f294-7e4008b47bf3"
      },
      "source": [
        "def createHist(qualityStrings):\n",
        "    # Create a histogram of quality scores\n",
        "    hist = [0]*50\n",
        "    for read in qualityStrings:\n",
        "        for phred in read:\n",
        "            q = phred33ToQ(phred)\n",
        "            hist[q] += 1\n",
        "    return hist\n",
        "h = createHist(quals)\n",
        "print(h)"
      ],
      "execution_count": null,
      "outputs": [
        {
          "output_type": "stream",
          "text": [
            "[0, 0, 6178, 0, 0, 54, 108, 574, 345, 83, 193, 124, 79, 165, 49, 236, 184, 327, 514, 238, 531, 254, 313, 798, 992, 888, 1396, 1488, 993, 1752, 3387, 4487, 3248, 5476, 8375, 11814, 4243, 7827, 6579, 8179, 9349, 8180, 0, 0, 0, 0, 0, 0, 0, 0]\n"
          ],
          "name": "stdout"
        }
      ]
    },
    {
      "cell_type": "code",
      "metadata": {
        "scrolled": true,
        "colab": {
          "base_uri": "https://localhost:8080/",
          "height": 269
        },
        "id": "8LFFrhzykW9F",
        "outputId": "b9b5fb98-3149-440a-f3ac-5c99f06d8c80"
      },
      "source": [
        "# Plot the histogram\n",
        "%matplotlib inline\n",
        "import matplotlib.pyplot as plt\n",
        "plt.plot(range(len(h)), h)\n",
        "plt.show()"
      ],
      "execution_count": null,
      "outputs": [
        {
          "output_type": "display_data",
          "data": {
            "image/png": "[encoded data removed]",
            "text/plain": [
              "<Figure size 432x288 with 1 Axes>"
            ]
          },
          "metadata": {
            "tags": [],
            "needs_background": "light"
          }
        }
      ]
    }
  ]
}