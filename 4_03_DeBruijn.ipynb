{
  "nbformat": 4,
  "nbformat_minor": 0,
  "metadata": {
    "kernelspec": {
      "display_name": "Python 2",
      "language": "python",
      "name": "python2"
    },
    "language_info": {
      "codemirror_mode": {
        "name": "ipython",
        "version": 2
      },
      "file_extension": ".py",
      "mimetype": "text/x-python",
      "name": "python",
      "nbconvert_exporter": "python",
      "pygments_lexer": "ipython2",
      "version": "2.7.11"
    },
    "colab": {
      "name": "4.03_DeBruijn.ipynb",
      "provenance": [],
      "collapsed_sections": []
    }
  },
  "cells": [
    {
      "cell_type": "code",
      "metadata": {
        "collapsed": true,
        "id": "kO1N6g0DYHxt"
      },
      "source": [
        "def de_bruijn_ize(st, k):\n",
        "    \"\"\" Return a list holding, for each k-mer, its left\n",
        "        k-1-mer and its right k-1-mer in a pair \"\"\"\n",
        "    edges = []\n",
        "    nodes = set()\n",
        "    for i in range(len(st) - k + 1):\n",
        "        edges.append((st[i:i+k-1], st[i+1:i+k]))\n",
        "        nodes.add(st[i:i+k-1])\n",
        "        nodes.add(st[i+1:i+k])\n",
        "    return nodes, edges"
      ],
      "execution_count": 1,
      "outputs": []
    },
    {
      "cell_type": "code",
      "metadata": {
        "id": "UaybU5bSYHxu"
      },
      "source": [
        "nodes, edges = de_bruijn_ize(\"ACGCGTCG\", 3)"
      ],
      "execution_count": 2,
      "outputs": []
    },
    {
      "cell_type": "code",
      "metadata": {
        "colab": {
          "base_uri": "https://localhost:8080/"
        },
        "id": "XgHjSBJzYHxu",
        "outputId": "185146f9-6747-4f00-94a8-8e6493c94d50"
      },
      "source": [
        "nodes"
      ],
      "execution_count": 3,
      "outputs": [
        {
          "output_type": "execute_result",
          "data": {
            "text/plain": [
              "{'AC', 'CG', 'GC', 'GT', 'TC'}"
            ]
          },
          "metadata": {
            "tags": []
          },
          "execution_count": 3
        }
      ]
    },
    {
      "cell_type": "code",
      "metadata": {
        "colab": {
          "base_uri": "https://localhost:8080/"
        },
        "id": "70kRNWloYHxv",
        "outputId": "87d760a0-75b4-4726-9cd2-0f024b915f41"
      },
      "source": [
        "edges"
      ],
      "execution_count": 4,
      "outputs": [
        {
          "output_type": "execute_result",
          "data": {
            "text/plain": [
              "[('AC', 'CG'),\n",
              " ('CG', 'GC'),\n",
              " ('GC', 'CG'),\n",
              " ('CG', 'GT'),\n",
              " ('GT', 'TC'),\n",
              " ('TC', 'CG')]"
            ]
          },
          "metadata": {
            "tags": []
          },
          "execution_count": 4
        }
      ]
    },
    {
      "cell_type": "code",
      "metadata": {
        "collapsed": true,
        "id": "oO74DvgUYHxw"
      },
      "source": [
        "def visualize_de_bruijn(st, k):\n",
        "    \"\"\" Visualize a directed multigraph using graphviz \"\"\"\n",
        "    nodes, edges = de_bruijn_ize(st, k)\n",
        "    dot_str = 'digraph \"DeBruijn graph\" {\\n'\n",
        "    for node in nodes:\n",
        "        dot_str += '  %s [label=\"%s\"] ;\\n' % (node, node)\n",
        "    for src, dst in edges:\n",
        "        dot_str += '  %s -> %s ;\\n' % (src, dst)\n",
        "    return dot_str + '}\\n'"
      ],
      "execution_count": 5,
      "outputs": []
    },
    {
      "cell_type": "code",
      "metadata": {
        "id": "gPKreWHOYHxw"
      },
      "source": [
        "# might have to do this first:\n",
        "# %install_ext https://raw.github.com/cjdrake/ipython-magic/master/gvmagic.py\n",
        "%reload_ext gvmagic\n"
      ],
      "execution_count": null,
      "outputs": []
    },
    {
      "cell_type": "code",
      "metadata": {
        "colab": {
          "base_uri": "https://localhost:8080/"
        },
        "id": "l2ZpjRKxZX1j",
        "outputId": "647e06a0-5650-4256-b4cb-4dd179d27034"
      },
      "source": [
        "pip install gvmagic"
      ],
      "execution_count": 13,
      "outputs": [
        {
          "output_type": "stream",
          "text": [
            "Collecting gvmagic\n",
            "  Downloading https://files.pythonhosted.org/packages/f7/f8/725b48babca08b58e863bd6f2335641578874c795c5936f8aba1802b74a9/gvmagic-0.5.tar.gz\n",
            "Building wheels for collected packages: gvmagic\n",
            "  Building wheel for gvmagic (setup.py) ... \u001b[?25l\u001b[?25hdone\n",
            "  Created wheel for gvmagic: filename=gvmagic-0.5-cp27-none-any.whl size=10376 sha256=390eed89ff5965d795798c3e1969d69b50ed8b49b9e502ee517130252b0e04cc\n",
            "  Stored in directory: /root/.cache/pip/wheels/f6/67/1f/64d62350d4cffe0a94e39af37828a6a5bfba1b9b9d6d95dbf8\n",
            "Successfully built gvmagic\n",
            "Installing collected packages: gvmagic\n",
            "Successfully installed gvmagic-0.5\n"
          ],
          "name": "stdout"
        }
      ]
    },
    {
      "cell_type": "code",
      "metadata": {
        "scrolled": true,
        "colab": {
          "base_uri": "https://localhost:8080/"
        },
        "id": "1c3N6f60YHxw",
        "outputId": "f6f1e753-8f77-455c-d161-7c395c679a77"
      },
      "source": [
        "%dotstr visualize_de_bruijn(\"ACGCGTCG\", 3)"
      ],
      "execution_count": 18,
      "outputs": [
        {
          "output_type": "stream",
          "text": [
            "UsageError: Line magic function `%dotstr` not found.\n"
          ],
          "name": "stderr"
        }
      ]
    },
    {
      "cell_type": "code",
      "metadata": {
        "collapsed": true,
        "id": "IImoTyp7YHxx"
      },
      "source": [
        "nodes, edges = de_bruijn_ize('a_long_long_long_time',5)"
      ],
      "execution_count": 19,
      "outputs": []
    },
    {
      "cell_type": "code",
      "metadata": {
        "colab": {
          "base_uri": "https://localhost:8080/"
        },
        "id": "oRUMfBbZYHxx",
        "outputId": "4151f096-27d4-4748-9dff-4e510a4f1b61"
      },
      "source": [
        "nodes"
      ],
      "execution_count": 20,
      "outputs": [
        {
          "output_type": "execute_result",
          "data": {
            "text/plain": [
              "{'_lon',\n",
              " '_tim',\n",
              " 'a_lo',\n",
              " 'g_lo',\n",
              " 'g_ti',\n",
              " 'long',\n",
              " 'ng_l',\n",
              " 'ng_t',\n",
              " 'ong_',\n",
              " 'time'}"
            ]
          },
          "metadata": {
            "tags": []
          },
          "execution_count": 20
        }
      ]
    },
    {
      "cell_type": "code",
      "metadata": {
        "colab": {
          "base_uri": "https://localhost:8080/"
        },
        "id": "UIbwshbAYHxx",
        "outputId": "d796133b-1772-462f-cade-e3a43d94162a"
      },
      "source": [
        "edges"
      ],
      "execution_count": 10,
      "outputs": [
        {
          "output_type": "execute_result",
          "data": {
            "text/plain": [
              "[('a_lo', '_lon'),\n",
              " ('_lon', 'long'),\n",
              " ('long', 'ong_'),\n",
              " ('ong_', 'ng_l'),\n",
              " ('ng_l', 'g_lo'),\n",
              " ('g_lo', '_lon'),\n",
              " ('_lon', 'long'),\n",
              " ('long', 'ong_'),\n",
              " ('ong_', 'ng_l'),\n",
              " ('ng_l', 'g_lo'),\n",
              " ('g_lo', '_lon'),\n",
              " ('_lon', 'long'),\n",
              " ('long', 'ong_'),\n",
              " ('ong_', 'ng_t'),\n",
              " ('ng_t', 'g_ti'),\n",
              " ('g_ti', '_tim'),\n",
              " ('_tim', 'time')]"
            ]
          },
          "metadata": {
            "tags": []
          },
          "execution_count": 10
        }
      ]
    },
    {
      "cell_type": "code",
      "metadata": {
        "collapsed": true,
        "id": "KUksqQHsYHxy"
      },
      "source": [
        ""
      ],
      "execution_count": null,
      "outputs": []
    }
  ]
}