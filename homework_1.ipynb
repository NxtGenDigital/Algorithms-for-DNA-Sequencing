{
  "nbformat": 4,
  "nbformat_minor": 0,
  "metadata": {
    "kernelspec": {
      "display_name": "Python 2",
      "language": "python",
      "name": "python2"
    },
    "language_info": {
      "codemirror_mode": {
        "name": "ipython",
        "version": 2
      },
      "file_extension": ".py",
      "mimetype": "text/x-python",
      "name": "python",
      "nbconvert_exporter": "python",
      "pygments_lexer": "ipython2",
      "version": "2.7.11"
    },
    "colab": {
      "name": "homework-1.ipynb",
      "provenance": [],
      "collapsed_sections": []
    }
  },
  "cells": [
    {
      "cell_type": "code",
      "metadata": {
        "collapsed": true,
        "id": "y3SJg9p6jnKV"
      },
      "source": [
        "def reverseComplement(s):\n",
        "    complement = {'A': 'T', 'C': 'G', 'G': 'C', 'T': 'A'}\n",
        "    t = ''\n",
        "    for base in s:\n",
        "        t = complement[base] + t\n",
        "    return t"
      ],
      "execution_count": 1,
      "outputs": []
    },
    {
      "cell_type": "code",
      "metadata": {
        "id": "8iQRMviAjnKY"
      },
      "source": [
        "def match(s1, s2):\n",
        "    if not len(s1) == len(s2):\n",
        "        return False\n",
        "    for i in range(0, len(s1)):\n",
        "        if not s1[i] == s2[i]:\n",
        "            return False\n",
        "    return True"
      ],
      "execution_count": 3,
      "outputs": []
    },
    {
      "cell_type": "code",
      "metadata": {
        "collapsed": true,
        "id": "zQMNyidgjnKY"
      },
      "source": [
        "def readFastq(filename):\n",
        "    sequences = []\n",
        "    qualities = []\n",
        "    with open(filename) as fh:\n",
        "        while True:\n",
        "            fh.readline() # skip name line\n",
        "            seq = fh.readline().rstrip() # read base sequence\n",
        "            fh.readline() # skip placeholder line\n",
        "            qual = fh.readline().rstrip() #base quality line\n",
        "            if len(seq) == 0:\n",
        "                break\n",
        "            sequences.append(seq)\n",
        "            qualities.append(qual)\n",
        "    return sequences, qualities"
      ],
      "execution_count": 4,
      "outputs": []
    },
    {
      "cell_type": "code",
      "metadata": {
        "collapsed": true,
        "id": "XMy3lPODjnKZ"
      },
      "source": [
        "def readGenome(filename):\n",
        "    genome = ''\n",
        "    with open(filename, 'r') as f:\n",
        "        for line in f:\n",
        "            # ignore header line with genome information\n",
        "            if not line[0] == '>':\n",
        "                genome += line.rstrip()\n",
        "    return genome"
      ],
      "execution_count": 5,
      "outputs": []
    },
    {
      "cell_type": "code",
      "metadata": {
        "collapsed": true,
        "id": "sEXOpaLejnKZ"
      },
      "source": [
        "def naive(p, t):\n",
        "    occurrences = []\n",
        "    for i in range(len(t) - len(p) + 1):\n",
        "        match = True\n",
        "        for j in range(len(p)):\n",
        "            if t[i+j] != p[j]:\n",
        "                match = False\n",
        "                break\n",
        "        if match:\n",
        "          occurrences.append(i)\n",
        "    return occurrences"
      ],
      "execution_count": 6,
      "outputs": []
    },
    {
      "cell_type": "code",
      "metadata": {
        "collapsed": true,
        "id": "ylt8tZPZjnKa"
      },
      "source": [
        "lambda_gene = readGenome('lambda_virus.fa')"
      ],
      "execution_count": null,
      "outputs": []
    },
    {
      "cell_type": "code",
      "metadata": {
        "id": "Ra-hefJ1jnKa",
        "outputId": "11702bfa-2b2d-4f87-83d4-73a5cc794340"
      },
      "source": [
        "print naive('AGGT', lambda_gene)\n",
        "print len(naive('AGGT', lambda_gene))"
      ],
      "execution_count": null,
      "outputs": [
        {
          "output_type": "stream",
          "text": [
            "[122, 302, 383, 555, 729, 921, 2403, 2688, 3163, 3254, 4312, 4646, 4917, 5069, 5162, 5192, 5685, 6315, 6507, 6585, 7397, 7715, 7822, 7987, 8103, 8121, 8296, 8762, 8986, 9621, 10419, 10836, 11196, 11205, 11919, 12183, 12489, 12994, 13090, 13163, 13346, 13415, 13516, 13562, 13747, 13816, 14384, 14621, 14758, 14953, 15068, 15421, 15611, 16165, 16195, 16234, 16702, 17104, 17131, 17410, 17437, 17776, 17939, 18554, 18736, 18856, 18914, 18955, 19035, 19313, 19470, 19591, 19836, 19950, 19983, 20067, 20492, 20802, 21158, 21243, 22052, 22384, 23507, 23936, 23967, 24598, 25181, 25197, 25230, 25384, 25773, 26196, 26442, 26579, 26656, 27367, 27456, 27525, 27588, 27784, 27963, 28325, 28835, 28979, 30003, 30315, 30919, 31622, 32984, 35148, 35190, 35703, 36481, 36622, 37004, 37046, 37366, 37576, 37589, 38033, 38200, 38482, 38652, 38720, 39675, 39684, 39831, 40407, 40425, 40430, 40801, 40818, 41157, 41190, 41267, 41720, 42266, 43692, 43866, 44111, 44165, 44705, 44738, 44792, 45036, 46864, 47103, 47855, 48304, 48494]\n",
            "150\n"
          ],
          "name": "stdout"
        }
      ]
    },
    {
      "cell_type": "code",
      "metadata": {
        "id": "yzKkXxu4jnKb",
        "outputId": "f8ad627a-12d5-4829-cac0-e78ba078668e"
      },
      "source": [
        "reverse_complement_AGGT = reverseComplement('AGGT')\n",
        "print reverse_complement_AGGT\n",
        "print len(naive(reverse_complement_AGGT,lambda_gene))\n"
      ],
      "execution_count": null,
      "outputs": [
        {
          "output_type": "stream",
          "text": [
            "ACCT\n",
            "156\n"
          ],
          "name": "stdout"
        }
      ]
    },
    {
      "cell_type": "code",
      "metadata": {
        "id": "G8lj9GqdjnKb",
        "outputId": "2ce484f3-d209-411a-8990-1f9d0b9f8cfe"
      },
      "source": [
        "print naive('TTAA', lambda_gene)\n",
        "print len(naive('TTAA', lambda_gene))"
      ],
      "execution_count": null,
      "outputs": [
        {
          "output_type": "stream",
          "text": [
            "[46, 77, 90, 732, 1455, 2175, 3274, 3418, 4348, 4463, 5267, 5708, 6075, 6183, 6540, 7026, 7948, 8061, 8199, 8460, 9078, 9252, 9691, 9951, 11082, 11115, 11517, 11583, 12618, 12966, 14107, 14991, 15627, 15967, 16033, 16294, 16858, 18868, 19136, 19481, 20799, 21440, 21634, 21701, 21902, 21947, 22723, 23047, 23083, 23110, 23205, 23278, 23284, 23478, 23497, 23554, 23692, 23886, 23978, 23986, 24072, 24101, 24750, 24986, 25169, 25254, 25352, 25436, 25577, 25745, 25967, 26132, 26425, 26450, 26482, 26522, 26584, 26650, 26665, 26678, 26692, 26762, 26809, 26983, 26992, 27037, 27091, 27202, 27316, 27682, 28455, 28568, 28921, 28971, 29373, 29980, 30381, 30619, 30638, 30721, 30734, 30755, 31168, 31807, 32193, 32217, 32640, 32703, 33221, 33350, 33687, 33735, 33747, 33800, 34201, 34365, 34405, 34589, 34617, 34686, 34734, 34752, 34830, 35061, 35259, 35533, 35540, 36274, 36281, 36302, 36429, 36491, 36530, 36542, 36603, 36735, 36756, 36878, 37031, 37441, 37765, 37782, 37881, 37915, 37943, 38163, 38286, 38411, 38833, 39606, 39834, 40146, 40505, 40559, 40880, 41016, 41422, 41651, 41714, 42316, 42630, 42650, 42672, 42813, 43409, 43491, 43506, 43527, 43592, 44423, 44537, 44595, 44867, 45150, 45787, 46032, 46407, 46555, 46803, 46842, 46852, 46895, 46951, 47255, 47273, 47286, 47429, 47575, 47698, 47798, 48058, 48124, 48226, 48358, 48377]\n",
            "195\n"
          ],
          "name": "stdout"
        }
      ]
    },
    {
      "cell_type": "code",
      "metadata": {
        "id": "DCa29DOEjnKc",
        "outputId": "cfd81918-e8ea-4401-d655-2cb6c47ffc60"
      },
      "source": [
        "reverse_complement_TTAA = reverseComplement('TTAA')\n",
        "print reverse_complement_TTAA\n",
        "print len(naive(reverse_complement_TTAA,lambda_gene))\n"
      ],
      "execution_count": null,
      "outputs": [
        {
          "output_type": "stream",
          "text": [
            "TTAA\n",
            "195\n"
          ],
          "name": "stdout"
        }
      ]
    },
    {
      "cell_type": "code",
      "metadata": {
        "id": "wvy_jMSXjnKc",
        "outputId": "75636527-5ebe-4a26-8584-e24f5f8d9403"
      },
      "source": [
        "print naive('ACTAAGT', lambda_gene)\n",
        "complement = reverseComplement('ACTAAGT')\n",
        "print naive(complement, lambda_gene)"
      ],
      "execution_count": null,
      "outputs": [
        {
          "output_type": "stream",
          "text": [
            "[27733, 45382]\n",
            "[26028]\n"
          ],
          "name": "stdout"
        }
      ]
    },
    {
      "cell_type": "code",
      "metadata": {
        "id": "61Hqc7bRjnKc",
        "outputId": "c7652f54-dcbb-4b63-d351-33abe6c662d2"
      },
      "source": [
        "print naive('AGTCGA', lambda_gene)\n",
        "complement = reverseComplement('AGTCGA')\n",
        "print naive(complement, lambda_gene)"
      ],
      "execution_count": null,
      "outputs": [
        {
          "output_type": "stream",
          "text": [
            "[18005, 23320, 33657, 44806]\n",
            "[450, 1908, 2472, 41927, 45369]\n"
          ],
          "name": "stdout"
        }
      ]
    },
    {
      "cell_type": "code",
      "metadata": {
        "id": "adag65U8jnKd"
      },
      "source": [
        "def hamming_distance(s1,s2):\n",
        "    count = 0\n",
        "    for i in range(len(s1)):\n",
        "        if s1[i]!=s2[i]:\n",
        "            count +=1\n",
        "    return count"
      ],
      "execution_count": null,
      "outputs": []
    },
    {
      "cell_type": "code",
      "metadata": {
        "id": "7sL3u2DUjnKd",
        "outputId": "84b90945-0e39-4c28-edde-5bbb8aaf030f"
      },
      "source": [
        "def naive_2mm(p, t):\n",
        "    occurrences = []\n",
        "    for i in range(len(t) - len(p) + 1):\n",
        "        subset_dna = t[i:i+len(p)]\n",
        "        ham_dist = hamming_distance(subset_dna,p)\n",
        "        if ham_dist <= 2:\n",
        "            occurrences.append(i)\n",
        "    return occurrences\n",
        "print naive_2mm('ACTTTA', 'ACTTACTTGATAAAGT')"
      ],
      "execution_count": null,
      "outputs": [
        {
          "output_type": "stream",
          "text": [
            "[0, 4]\n"
          ],
          "name": "stdout"
        }
      ]
    },
    {
      "cell_type": "code",
      "metadata": {
        "id": "sIXl9Mz-jnKd",
        "outputId": "956e43ae-8481-45ae-f353-596bb8d40009"
      },
      "source": [
        "print len(naive_2mm('TTCAAGCC',lambda_gene))"
      ],
      "execution_count": null,
      "outputs": [
        {
          "output_type": "stream",
          "text": [
            "191\n"
          ],
          "name": "stdout"
        }
      ]
    },
    {
      "cell_type": "code",
      "metadata": {
        "id": "q9XzqaPkjnKe",
        "outputId": "975dd6cc-980d-47e0-b978-f0a411b54e82"
      },
      "source": [
        "print naive_2mm('AGGAGGTT',lambda_gene)"
      ],
      "execution_count": null,
      "outputs": [
        {
          "output_type": "stream",
          "text": [
            "[49, 282, 299, 302, 380, 1560, 1650, 2235, 2277, 2400, 2562, 2565, 2729, 2823, 3160, 3181, 3946, 4210, 4294, 4309, 4405, 4580, 5069, 5159, 5189, 5231, 5331, 5519, 5737, 5882, 5993, 5996, 6011, 6312, 6522, 6585, 6606, 7316, 7394, 7819, 7904, 7966, 7998, 8534, 8648, 8946, 9339, 9354, 9530, 9842, 9966, 10041, 10250, 10416, 10445, 10484, 10527, 10874, 11193, 11292, 11505, 11568, 11655, 11745, 11838, 12078, 12180, 12222, 12697, 12745, 12819, 12880, 12935, 13011, 13087, 13256, 13415, 13526, 13813, 14259, 15385, 15473, 16192, 17101, 17437, 17755, 17936, 17989, 18016, 18040, 18727, 18853, 18911, 19232, 19263, 19310, 19833, 19929, 19932, 19947, 19980, 20793, 20802, 21305, 21528, 21627, 21684, 22414, 22660, 22670, 22787, 23326, 24063, 24145, 24409, 24595, 24681, 25120, 25139, 25210, 25381, 25384, 25648, 25664, 25773, 25987, 26196, 26208, 26576, 26587, 26653, 26736, 27892, 27967, 28042, 28622, 28840, 28976, 29119, 30029, 30530, 30673, 30902, 31619, 31645, 31682, 31843, 31859, 32069, 33180, 33365, 33715, 33952, 34321, 34421, 34841, 34848, 34956, 35145, 35253, 35289, 35643, 36185, 36687, 36869, 38030, 38197, 38381, 38479, 38737, 39282, 39600, 39681, 39786, 39828, 39954, 40119, 40337, 40508, 40781, 40887, 40890, 40946, 41110, 41225, 41264, 41282, 41324, 41570, 41693, 41717, 41768, 42079, 42082, 42266, 42353, 43039, 43184, 43389, 43662, 43689, 45033, 45727, 45763, 45781, 45790, 46173, 46215, 47028, 47220, 47930, 48101, 48256, 48301, 48411]\n"
          ],
          "name": "stdout"
        }
      ]
    },
    {
      "cell_type": "code",
      "metadata": {
        "id": "sRlPBebrjnKe",
        "outputId": "d43bbc46-94af-468b-8935-9ffc8c680016"
      },
      "source": [
        "#function for parsing fasta file\n",
        "def readGenome(filename):\n",
        "    genome = ''\n",
        "    with open(filename, 'r') as f:\n",
        "        for line in f:\n",
        "            # ignore header line with genome information\n",
        "            if not line[0] == '>':\n",
        "                genome += line.rstrip()\n",
        "    return genome\n",
        "genome = readGenome('chr1.GRCh38.excerpt.fasta')\n",
        "genome[:100]\n",
        "p = 'GGCGCGGTGGCTCACGCCTGTAAT'\n",
        "t = genome\n",
        "print naive_2mm(p,t)\n",
        "print len(naive_2mm(p,t))"
      ],
      "execution_count": null,
      "outputs": [
        {
          "output_type": "stream",
          "text": [
            "[56922, 84641, 147558, 160162, 160729, 191452, 262042, 273669, 364263, 421221, 429299, 465647, 551134, 635931, 657496, 681737, 717706, 724927, 747359]\n",
            "19\n"
          ],
          "name": "stdout"
        }
      ]
    },
    {
      "cell_type": "code",
      "metadata": {
        "collapsed": true,
        "id": "dbI0XkWAjnKe"
      },
      "source": [
        ""
      ],
      "execution_count": null,
      "outputs": []
    }
  ]
}